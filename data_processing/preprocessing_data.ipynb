{
 "cells": [
  {
   "cell_type": "code",
   "execution_count": 1,
   "metadata": {},
   "outputs": [],
   "source": [
    "import pandas as pd\n",
    "import json"
   ]
  },
  {
   "cell_type": "code",
   "execution_count": 2,
   "metadata": {},
   "outputs": [],
   "source": [
    "df = pd.read_csv('schibsted_articles_uib_media_futures_2024.csv')"
   ]
  },
  {
   "cell_type": "code",
   "execution_count": null,
   "metadata": {},
   "outputs": [],
   "source": [
    "def extract_combined_text(component):\n",
    "    try:\n",
    "        component_list = json.loads(component)\n",
    "        combined_text = []\n",
    "        current_subtitle = \"\"\n",
    "\n",
    "        for item in component_list:\n",
    "            if item.get('type') == 'text':\n",
    "                for paragraph in item.get('paragraphs', []):\n",
    "                    text_info = paragraph.get('text', {})\n",
    "                    text_value = text_info.get('value', '').strip()\n",
    "\n",
    "                    if paragraph.get('blockType') == 'heading':\n",
    "                        # Add subtitle if it has content\n",
    "                        current_subtitle = text_value\n",
    "                    elif paragraph.get('blockType') == 'paragraph' and text_value:\n",
    "                        # Only add text if it's not empty\n",
    "                        if current_subtitle:\n",
    "                            paragraph_text = f\"||{current_subtitle}||\\n{text_value}\"\n",
    "                            current_subtitle = \"\"  # Clear subtitle after use\n",
    "                        else:\n",
    "                            paragraph_text = text_value\n",
    "\n",
    "                        combined_text.append(paragraph_text)\n",
    "\n",
    "            elif item.get('type') == 'fact':\n",
    "                title = item.get('title', {}).get('value', '').lower()\n",
    "                if \"og anonyme kilder\" in title or \"bruk av anonyme kilder i\" in title:\n",
    "                    continue  # Skip these kinds of fact boxes\n",
    "\n",
    "                fact_content = []\n",
    "\n",
    "                for sub_item in item.get('paragraphs', []):\n",
    "                    if sub_item.get('blockType') == 'list:unordered':\n",
    "                        for list_item in sub_item.get('items', []):\n",
    "                            list_value = list_item['value'].strip()\n",
    "                            if list_value:\n",
    "                                fact_content.append(list_value)\n",
    "\n",
    "                    elif sub_item.get('blockType') == 'paragraph':\n",
    "                        text_info = sub_item.get('text', {})\n",
    "                        text_value = text_info.get('value', '').strip()\n",
    "                        if text_value:\n",
    "                            fact_content.append(text_value)\n",
    "\n",
    "                if fact_content:\n",
    "                    fact_text = ' '.join(fact_content)\n",
    "                    combined_text.append(f\"{{{{ {fact_text} }}}}\")\n",
    "\n",
    "        # Remove any extra newlines caused by empty entries\n",
    "        return '\\n\\n'.join(filter(None, combined_text))\n",
    "\n",
    "    except (json.JSONDecodeError, TypeError):\n",
    "        return \"\""
   ]
  },
  {
   "cell_type": "code",
   "execution_count": 4,
   "metadata": {},
   "outputs": [],
   "source": [
    "processed_articles = []\n",
    "\n",
    "for index, row in df.iterrows():\n",
    "    article_id = row[\"ARTICLE_ID\"]\n",
    "    title = row[\"ARTICLE_TITLE\"]\n",
    "    combined_text = extract_combined_text(row[\"COMPONENTS\"])\n",
    "\n",
    "    processed_articles.append({\n",
    "        'unique_id': article_id,\n",
    "        'title': title,\n",
    "        'original_text': combined_text,\n",
    "        'oral_version': \"\"  # Placeholder \n",
    "    })\n"
   ]
  },
  {
   "cell_type": "code",
   "execution_count": 5,
   "metadata": {},
   "outputs": [
    {
     "name": "stdout",
     "output_type": "stream",
     "text": [
      "File successfully written\n"
     ]
    }
   ],
   "source": [
    "\n",
    "with open('articles_preprocessed.jsonl', 'w', encoding='utf-8') as f:\n",
    "    for article in processed_articles:\n",
    "        f.write(json.dumps(article, ensure_ascii=False) + '\\n')\n",
    "\n",
    "print(f\"File successfully written\")"
   ]
  },
  {
   "cell_type": "code",
   "execution_count": null,
   "metadata": {},
   "outputs": [],
   "source": []
  }
 ],
 "metadata": {
  "kernelspec": {
   "display_name": "base",
   "language": "python",
   "name": "python3"
  },
  "language_info": {
   "codemirror_mode": {
    "name": "ipython",
    "version": 3
   },
   "file_extension": ".py",
   "mimetype": "text/x-python",
   "name": "python",
   "nbconvert_exporter": "python",
   "pygments_lexer": "ipython3",
   "version": "3.11.6"
  }
 },
 "nbformat": 4,
 "nbformat_minor": 2
}
